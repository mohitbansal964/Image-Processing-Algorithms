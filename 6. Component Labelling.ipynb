{
 "cells": [
  {
   "cell_type": "code",
   "execution_count": 1,
   "metadata": {},
   "outputs": [],
   "source": [
    "import numpy as np\n",
    "import matplotlib.pyplot as plt"
   ]
  },
  {
   "cell_type": "code",
   "execution_count": 2,
   "metadata": {},
   "outputs": [],
   "source": [
    "def first_pass(V, pix):\n",
    "    data= np.zeros((pix.shape[0]+1, pix.shape[1]+1))\n",
    "    count= 1\n",
    "    eq_class= [i for i in range(2000)]\n",
    "    for i in range(1, data.shape[0]):\n",
    "        for j in range(1, data.shape[1]):\n",
    "            if pix[i-1][j-1] in V:\n",
    "                if data[i-1][j]== data[i][j-1] and data[i][j-1]==0:\n",
    "                    data[i][j]= count\n",
    "                    count+= 1\n",
    "                elif data[i-1][j]== data[i][j-1]:\n",
    "                        data[i][j]= data[i-1][j]\n",
    "                elif data[i-1][j]!= data[i][j-1] and (data[i-1][j]!= 0 and data[i][j-1]!= 0)  :\n",
    "                    eq_class[int(max(data[i-1][j], data[i][j-1]))]= int(min(data[i-1][j], data[i][j-1]))\n",
    "                    data[i][j]= min(data[i-1][j], data[i][j-1])\n",
    "                elif data[i-1][j]!= data[i][j-1]:\n",
    "                    data[i][j]= max(data[i-1][j], data[i][j-1])\n",
    "\n",
    "\n",
    "    data= np.delete(data, (0), axis= 0)\n",
    "    data= np.delete(data, (0), axis= 1)\n",
    "    return data, list(eq_class[: count])\n",
    "\n",
    "def second_pass(data, eq_class):\n",
    "    d= {}\n",
    "    for i in range(data.shape[0]):\n",
    "        for j in range(data.shape[1]):\n",
    "            if data[i][j]!= 0:\n",
    "                val= int(data[i][j])\n",
    "                while(eq_class[val]!= val):\n",
    "                    val= eq_class[val]\n",
    "                if val in d:\n",
    "                    d[val].append(data[i][j])\n",
    "                else:\n",
    "                    d[val]= [data[i][j]]\n",
    "                data[i][j]= val\n",
    "    return data, d\n",
    "\n",
    "def component_labelling(V, pix):\n",
    "    data, eq_class= first_pass(V, pix)\n",
    "    data, eq= second_pass(data, eq_class)\n",
    "    for i in eq:\n",
    "        eq[i]= list(set(eq[i]))\n",
    "    return data, eq"
   ]
  },
  {
   "cell_type": "markdown",
   "metadata": {},
   "source": [
    "# User Matrix"
   ]
  },
  {
   "cell_type": "code",
   "execution_count": 3,
   "metadata": {},
   "outputs": [
    {
     "name": "stdout",
     "output_type": "stream",
     "text": [
      "Enter space separated allowed pixel values: 1 2\n"
     ]
    },
    {
     "data": {
      "text/plain": [
       "array([1, 2])"
      ]
     },
     "execution_count": 3,
     "metadata": {},
     "output_type": "execute_result"
    }
   ],
   "source": [
    "V= np.array(list(map(int, input(\"Enter space separated allowed pixel values: \").split())))\n",
    "V"
   ]
  },
  {
   "cell_type": "code",
   "execution_count": 4,
   "metadata": {
    "scrolled": true
   },
   "outputs": [],
   "source": [
    "# n, m= map(int, input(\"Enter size of matrix(n, m): \").split())\n",
    "# print(\"Enter matrix values: \")\n",
    "# l= []\n",
    "# for i in range(n):\n",
    "#     _= np.array(list(map(int, input().split())))\n",
    "#     l.append(_)\n",
    "#pix= np.array(l)\n",
    "n, m= 8, 8\n",
    "pix= np.array([[1, 1, 0, 1, 2, 1, 0, 2],\n",
    "       [1, 1, 0, 1, 0, 1, 0, 1],\n",
    "       [1, 2, 1, 1, 0, 0, 0, 1],\n",
    "       [0, 0, 0, 0, 0, 0, 0, 1],\n",
    "       [1, 2, 1, 1, 0, 1, 0, 1],\n",
    "       [0, 0, 0, 1, 0, 1, 0, 1],\n",
    "       [1, 2, 1, 1, 0, 0, 0, 1],\n",
    "       [1, 1, 2, 1, 0, 1, 1, 1]])"
   ]
  },
  {
   "cell_type": "code",
   "execution_count": 5,
   "metadata": {
    "scrolled": true
   },
   "outputs": [
    {
     "data": {
      "text/plain": [
       "array([[1, 1, 0, 1, 2, 1, 0, 2],\n",
       "       [1, 1, 0, 1, 0, 1, 0, 1],\n",
       "       [1, 2, 1, 1, 0, 0, 0, 1],\n",
       "       [0, 0, 0, 0, 0, 0, 0, 1],\n",
       "       [1, 2, 1, 1, 0, 1, 0, 1],\n",
       "       [0, 0, 0, 1, 0, 1, 0, 1],\n",
       "       [1, 2, 1, 1, 0, 0, 0, 1],\n",
       "       [1, 1, 2, 1, 0, 1, 1, 1]])"
      ]
     },
     "execution_count": 5,
     "metadata": {},
     "output_type": "execute_result"
    }
   ],
   "source": [
    "pix"
   ]
  },
  {
   "cell_type": "code",
   "execution_count": 6,
   "metadata": {},
   "outputs": [
    {
     "data": {
      "image/png": "[encoded data removed]",
      "text/plain": [
       "<Figure size 576x576 with 1 Axes>"
      ]
     },
     "metadata": {
      "needs_background": "light"
     },
     "output_type": "display_data"
    }
   ],
   "source": [
    "plt.figure(figsize= (n, m))\n",
    "plt.imshow(pix)\n",
    "plt.show()"
   ]
  },
  {
   "cell_type": "code",
   "execution_count": 7,
   "metadata": {
    "scrolled": true
   },
   "outputs": [
    {
     "data": {
      "text/plain": [
       "(array([[1., 1., 0., 1., 1., 1., 0., 3.],\n",
       "        [1., 1., 0., 1., 0., 1., 0., 3.],\n",
       "        [1., 1., 1., 1., 0., 0., 0., 3.],\n",
       "        [0., 0., 0., 0., 0., 0., 0., 3.],\n",
       "        [4., 4., 4., 4., 0., 5., 0., 3.],\n",
       "        [0., 0., 0., 4., 0., 5., 0., 3.],\n",
       "        [4., 4., 4., 4., 0., 0., 0., 3.],\n",
       "        [4., 4., 4., 4., 0., 3., 3., 3.]]),\n",
       " {1: [1.0, 2.0], 3: [3.0, 7.0], 4: [4.0, 6.0], 5: [5.0]})"
      ]
     },
     "execution_count": 7,
     "metadata": {},
     "output_type": "execute_result"
    }
   ],
   "source": [
    "data, eq= component_labelling(V, pix)\n",
    "data, eq"
   ]
  },
  {
   "cell_type": "code",
   "execution_count": 8,
   "metadata": {},
   "outputs": [
    {
     "name": "stdout",
     "output_type": "stream",
     "text": [
      "Number of labels: 4\n"
     ]
    }
   ],
   "source": [
    "print(f\"Number of labels: {len(eq)}\")"
   ]
  },
  {
   "cell_type": "code",
   "execution_count": 9,
   "metadata": {},
   "outputs": [
    {
     "data": {
      "image/png": "[encoded data removed]",
      "text/plain": [
       "<Figure size 576x576 with 1 Axes>"
      ]
     },
     "metadata": {
      "needs_background": "light"
     },
     "output_type": "display_data"
    }
   ],
   "source": [
    "#Violet Colour Background\n",
    "plt.figure(figsize= (n, m))\n",
    "plt.imshow(data)\n",
    "plt.show()"
   ]
  },
  {
   "cell_type": "code",
   "execution_count": null,
   "metadata": {},
   "outputs": [],
   "source": []
  },
  {
   "cell_type": "markdown",
   "metadata": {},
   "source": [
    "# Image"
   ]
  },
  {
   "cell_type": "code",
   "execution_count": 10,
   "metadata": {},
   "outputs": [],
   "source": [
    "import cv2"
   ]
  },
  {
   "cell_type": "code",
   "execution_count": 11,
   "metadata": {},
   "outputs": [
    {
     "name": "stdout",
     "output_type": "stream",
     "text": [
      "Enter image file name: ./Images/Polygon.png\n"
     ]
    }
   ],
   "source": [
    "img_file= input(\"Enter image file name: \")\n",
    "img= cv2.imread(img_file, 0)"
   ]
  },
  {
   "cell_type": "code",
   "execution_count": 12,
   "metadata": {},
   "outputs": [
    {
     "data": {
      "image/png": "[encoded data removed]",
      "text/plain": [
       "<Figure size 432x288 with 1 Axes>"
      ]
     },
     "metadata": {
      "needs_background": "light"
     },
     "output_type": "display_data"
    }
   ],
   "source": [
    "plt.imshow(img, cmap= 'gray')\n",
    "plt.show()"
   ]
  },
  {
   "cell_type": "code",
   "execution_count": 13,
   "metadata": {},
   "outputs": [
    {
     "data": {
      "text/plain": [
       "array([  0,  78,  98, 120, 127, 138, 142, 150, 173, 233, 255], dtype=uint8)"
      ]
     },
     "execution_count": 13,
     "metadata": {},
     "output_type": "execute_result"
    }
   ],
   "source": [
    "np.unique(img)"
   ]
  },
  {
   "cell_type": "code",
   "execution_count": 14,
   "metadata": {},
   "outputs": [
    {
     "name": "stdout",
     "output_type": "stream",
     "text": [
      "Enter space separated allowed pixel values: 0 78 98 120 127 138 142 150 173 233\n"
     ]
    }
   ],
   "source": [
    "V_img= np.array(list(map(int, input(\"Enter space separated allowed pixel values: \").split())))"
   ]
  },
  {
   "cell_type": "code",
   "execution_count": 15,
   "metadata": {
    "scrolled": true
   },
   "outputs": [
    {
     "data": {
      "text/plain": [
       "array([[0., 0., 0., ..., 0., 0., 0.],\n",
       "       [0., 0., 0., ..., 0., 0., 0.],\n",
       "       [0., 0., 0., ..., 0., 0., 0.],\n",
       "       ...,\n",
       "       [0., 0., 0., ..., 0., 0., 0.],\n",
       "       [0., 0., 0., ..., 0., 0., 0.],\n",
       "       [0., 0., 0., ..., 0., 0., 0.]])"
      ]
     },
     "execution_count": 15,
     "metadata": {},
     "output_type": "execute_result"
    }
   ],
   "source": [
    "data, eq= component_labelling(V_img, img)\n",
    "data"
   ]
  },
  {
   "cell_type": "code",
   "execution_count": 16,
   "metadata": {},
   "outputs": [
    {
     "name": "stdout",
     "output_type": "stream",
     "text": [
      "1 [1.0]\n",
      "2 [2.0]\n",
      "3 [3.0, 4.0, 5.0, 6.0, 7.0, 8.0, 9.0, 10.0, 11.0, 12.0, 13.0, 14.0, 15.0, 16.0, 17.0, 18.0, 19.0, 20.0, 21.0, 22.0, 23.0, 24.0, 25.0, 26.0, 27.0, 28.0, 29.0, 30.0, 31.0, 32.0, 33.0, 34.0, 35.0, 36.0, 37.0, 38.0]\n",
      "39 [39.0, 40.0, 42.0, 44.0, 46.0, 47.0, 49.0, 51.0, 54.0, 56.0, 59.0, 61.0, 63.0, 66.0, 68.0, 69.0, 72.0, 74.0, 77.0, 78.0, 80.0, 83.0, 85.0, 87.0, 89.0, 91.0, 93.0, 96.0, 98.0, 99.0]\n",
      "41 [128.0, 41.0, 43.0, 45.0, 48.0, 50.0, 53.0, 55.0, 60.0, 62.0, 65.0, 67.0, 71.0, 73.0, 76.0, 79.0, 82.0, 84.0, 86.0, 90.0, 92.0, 95.0, 97.0, 101.0, 102.0, 103.0, 105.0, 106.0, 108.0, 109.0, 111.0, 112.0, 114.0, 115.0, 117.0, 119.0, 121.0, 122.0, 123.0, 124.0, 125.0, 126.0, 127.0]\n",
      "52 [130.0, 131.0, 132.0, 133.0, 134.0, 135.0, 136.0, 137.0, 138.0, 139.0, 140.0, 52.0, 57.0, 64.0, 70.0, 75.0, 81.0, 88.0, 94.0, 100.0, 104.0, 107.0, 110.0, 113.0, 116.0, 118.0, 120.0]\n",
      "58 [129.0, 58.0]\n",
      "141 [141.0, 142.0, 143.0, 144.0, 145.0, 146.0, 147.0, 149.0, 150.0, 152.0, 153.0, 155.0, 156.0, 158.0, 159.0, 161.0, 162.0, 164.0, 166.0, 167.0, 185.0, 188.0, 190.0, 191.0, 192.0, 193.0, 194.0, 195.0, 196.0, 197.0, 198.0, 199.0, 200.0, 201.0, 202.0, 203.0]\n",
      "148 [148.0, 151.0, 154.0, 157.0, 160.0, 165.0, 168.0, 169.0, 170.0, 171.0, 172.0, 173.0, 175.0, 176.0, 177.0, 178.0, 179.0, 180.0, 181.0, 182.0, 183.0, 184.0, 186.0, 187.0, 189.0]\n",
      "163 [163.0, 174.0]\n"
     ]
    }
   ],
   "source": [
    "for cls in eq:\n",
    "    print(cls, eq[cls])"
   ]
  },
  {
   "cell_type": "code",
   "execution_count": 17,
   "metadata": {},
   "outputs": [
    {
     "name": "stdout",
     "output_type": "stream",
     "text": [
      "Number of labels: 10\n"
     ]
    }
   ],
   "source": [
    "print(f\"Number of labels: {len(eq)}\")"
   ]
  },
  {
   "cell_type": "code",
   "execution_count": 18,
   "metadata": {},
   "outputs": [
    {
     "data": {
      "image/png": "[encoded data removed]",
      "text/plain": [
       "<Figure size 576x576 with 1 Axes>"
      ]
     },
     "metadata": {
      "needs_background": "light"
     },
     "output_type": "display_data"
    }
   ],
   "source": [
    "plt.figure(figsize= (n, m))\n",
    "for i in range(data.shape[0]):\n",
    "    for j in range(data.shape[1]):\n",
    "        if data[i, j]==0:\n",
    "            data[i, j]= 100\n",
    "plt.imshow(data)\n",
    "plt.show()"
   ]
  }
 ],
 "metadata": {
  "kernelspec": {
   "display_name": "Python 3",
   "language": "python",
   "name": "python3"
  },
  "language_info": {
   "codemirror_mode": {
    "name": "ipython",
    "version": 3
   },
   "file_extension": ".py",
   "mimetype": "text/x-python",
   "name": "python",
   "nbconvert_exporter": "python",
   "pygments_lexer": "ipython3",
   "version": "3.7.3"
  }
 },
 "nbformat": 4,
 "nbformat_minor": 2
}
