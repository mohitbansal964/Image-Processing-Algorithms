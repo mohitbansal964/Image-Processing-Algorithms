{
 "cells": [
  {
   "cell_type": "markdown",
   "metadata": {},
   "source": [
    "# 14. Morphological Operation"
   ]
  },
  {
   "cell_type": "code",
   "execution_count": 1,
   "metadata": {},
   "outputs": [],
   "source": [
    "import cv2\n",
    "import numpy as np\n",
    "\n",
    "%matplotlib inline\n",
    "import matplotlib.pyplot as plt"
   ]
  },
  {
   "cell_type": "code",
   "execution_count": 2,
   "metadata": {},
   "outputs": [],
   "source": [
    "def padding(arr, n, m):\n",
    "    leftCol= np.reshape(arr[:, 0], (1, -1)).T\n",
    "    rightCol= np.reshape(arr[:, -1], (1, -1)).T\n",
    "    new_arr= arr.copy()\n",
    "    if n%2!=0:\n",
    "        for i in range((n-1)//2):\n",
    "            new_arr= np.insert(new_arr, [0], leftCol, axis= 1)\n",
    "            new_arr= np.append(new_arr, rightCol, axis= 1)\n",
    "    else:\n",
    "        for i in range((n-1)//2):\n",
    "            new_arr= np.insert(new_arr, [0], leftCol, axis= 1)\n",
    "            new_arr= np.append(new_arr, rightCol, axis= 1)\n",
    "        new_arr= np.insert(new_arr, [0], leftCol, axis= 1)\n",
    "    topRow= np.reshape(new_arr[0, :], (1, -1))\n",
    "    bottomRow= np.reshape(new_arr[-1, :], (1, -1))\n",
    "    if m%2!=0:\n",
    "        for i in range((m-1)//2):\n",
    "            new_arr= np.insert(new_arr, [0], topRow, axis= 0)\n",
    "            new_arr= np.append(new_arr, bottomRow, axis= 0)\n",
    "    else:\n",
    "        for i in range((m-1)//2):\n",
    "            new_arr= np.insert(new_arr, [0], topRow, axis= 0)\n",
    "            new_arr= np.append(new_arr, bottomRow, axis= 0)\n",
    "        new_arr= np.append(new_arr, bottomRow, axis= 0)\n",
    "    return new_arr"
   ]
  },
  {
   "cell_type": "code",
   "execution_count": 3,
   "metadata": {},
   "outputs": [],
   "source": [
    "def erosion(img):\n",
    "    new_img= np.zeros(img.shape)\n",
    "    \n",
    "    n, m= map(int, input('Enter structuring element size(n, m) for erosion: ').split())\n",
    "    se= np.ones((n, m))\n",
    "    img= padding(img, n, m)\n",
    "\n",
    "    for i in range((se.shape[0]-1)//2, img.shape[0]-se.shape[0]//2):\n",
    "        for j in range((se.shape[1]-1)//2, img.shape[1]-se.shape[1]//2):\n",
    "            \n",
    "            x1= i-(se.shape[0]-1)//2\n",
    "            x2= x1+ se.shape[0]\n",
    "            y1= j- (se.shape[1]-1)//2\n",
    "            y2= y1+ se.shape[1]\n",
    "            arr= img[ x1:x2 , y1:y2]\n",
    "            if (arr== se).all():\n",
    "                new_img[x1, y1]= 1\n",
    "            else:\n",
    "                new_img[x1, y1]= 0\n",
    "    \n",
    "    return new_img"
   ]
  },
  {
   "cell_type": "code",
   "execution_count": 4,
   "metadata": {},
   "outputs": [],
   "source": [
    "def dilation(img):\n",
    "    new_img= np.zeros(img.shape)\n",
    "    \n",
    "    n, m= map(int, input('Enter structuring element size(n, m) for dilation: ').split())\n",
    "    se= np.ones((n, m))\n",
    "    img= padding(img, n, m)\n",
    "\n",
    "    for i in range((se.shape[0]-1)//2, img.shape[0]-se.shape[0]//2):\n",
    "        for j in range((se.shape[1]-1)//2, img.shape[1]-se.shape[1]//2):\n",
    "            \n",
    "            x1= i-(se.shape[0]-1)//2\n",
    "            x2= x1+ se.shape[0]\n",
    "            y1= j- (se.shape[1]-1)//2\n",
    "            y2= y1+ se.shape[1]\n",
    "            arr= img[ x1:x2 , y1:y2]\n",
    "            if (arr== se).any():\n",
    "                new_img[x1, y1]= 1\n",
    "            else:\n",
    "                new_img[x1, y1]= 0\n",
    "    \n",
    "    return new_img"
   ]
  },
  {
   "cell_type": "code",
   "execution_count": 5,
   "metadata": {},
   "outputs": [],
   "source": [
    "def opening(img):\n",
    "    ero_img= erosion(img)\n",
    "    dil_img= dilation(ero_img)\n",
    "    return dil_img"
   ]
  },
  {
   "cell_type": "code",
   "execution_count": 6,
   "metadata": {},
   "outputs": [],
   "source": [
    "def closing(img):\n",
    "    dil_img= dilation(img)\n",
    "    ero_img= erosion(dil_img)\n",
    "    return ero_img"
   ]
  },
  {
   "cell_type": "markdown",
   "metadata": {},
   "source": [
    "# User Data"
   ]
  },
  {
   "cell_type": "code",
   "execution_count": 7,
   "metadata": {},
   "outputs": [],
   "source": [
    "binary= np.array([[0, 0, 0, 0, 0, 0, 0, 0],\n",
    "                  [1, 1, 1, 0, 0, 1, 1, 1],\n",
    "                  [1, 1, 1, 0, 0, 1, 1, 1],\n",
    "                  [1, 1, 1, 1, 1, 1, 1, 1],\n",
    "                  [1, 1, 1, 0, 0, 1, 1, 1],\n",
    "                  [1, 1, 1, 0, 0, 1, 1, 1]])"
   ]
  },
  {
   "cell_type": "code",
   "execution_count": 8,
   "metadata": {},
   "outputs": [
    {
     "name": "stdout",
     "output_type": "stream",
     "text": [
      "Enter structuring element size(n, m) for erosion: 2 2\n",
      "Enter structuring element size(n, m) for dilation: 2 2\n"
     ]
    }
   ],
   "source": [
    "ero_img= erosion(binary)\n",
    "dil_img= dilation(binary)"
   ]
  },
  {
   "cell_type": "code",
   "execution_count": 9,
   "metadata": {},
   "outputs": [
    {
     "name": "stdout",
     "output_type": "stream",
     "text": [
      "Enter structuring element size(n, m) for erosion: 2 2\n",
      "Enter structuring element size(n, m) for dilation: 2 2\n"
     ]
    }
   ],
   "source": [
    "open_img= opening(binary)"
   ]
  },
  {
   "cell_type": "code",
   "execution_count": 10,
   "metadata": {},
   "outputs": [
    {
     "name": "stdout",
     "output_type": "stream",
     "text": [
      "Enter structuring element size(n, m) for dilation: 2 2\n",
      "Enter structuring element size(n, m) for erosion: 2 2\n"
     ]
    }
   ],
   "source": [
    "close_img= closing(binary)"
   ]
  },
  {
   "cell_type": "code",
   "execution_count": 11,
   "metadata": {},
   "outputs": [
    {
     "data": {
      "image/png": "[encoded data removed]",
      "text/plain": [
       "<Figure size 1296x864 with 6 Axes>"
      ]
     },
     "metadata": {
      "needs_background": "light"
     },
     "output_type": "display_data"
    }
   ],
   "source": [
    "fig, ax= plt.subplots(nrows= 2, ncols= 3, figsize= (18, 12))\n",
    "fsize= 14\n",
    "\n",
    "ax[0, 0].set_title(\"Original Image\", fontsize= fsize)\n",
    "ax[0, 0].imshow(binary, cmap= 'gray')\n",
    "\n",
    "ax[0, 1].set_title(\"Eroded Image\", fontsize= fsize)\n",
    "ax[0, 1].imshow(ero_img, cmap= 'gray')\n",
    "\n",
    "ax[0, 2].set_title(\"Dilated Image\", fontsize= fsize)\n",
    "ax[0, 2].imshow(dil_img, cmap= 'gray')\n",
    "\n",
    "ax[1, 0].set_title(\"Opening\", fontsize= fsize)\n",
    "ax[1, 0].imshow(open_img, cmap= 'gray')\n",
    "\n",
    "ax[1, 1].set_title(\"Closing\", fontsize= fsize)\n",
    "ax[1, 1].imshow(close_img, cmap= 'gray')\n",
    "\n",
    "plt.show()"
   ]
  },
  {
   "cell_type": "markdown",
   "metadata": {},
   "source": [
    "# Image"
   ]
  },
  {
   "cell_type": "code",
   "execution_count": 12,
   "metadata": {},
   "outputs": [
    {
     "name": "stdout",
     "output_type": "stream",
     "text": [
      "Enter image file name: ./Images/wire_bond_mask.png\n"
     ]
    },
    {
     "data": {
      "text/plain": [
       "(486, 486)"
      ]
     },
     "execution_count": 12,
     "metadata": {},
     "output_type": "execute_result"
    }
   ],
   "source": [
    "ip= input(\"Enter image file name: \")\n",
    "img= cv2.imread(ip, 0)\n",
    "binary= img.copy()\n",
    "m= np.max(img)\n",
    "binary[img> m*0.33]= 1\n",
    "binary[img< m*0.33]= 0\n",
    "binary.shape"
   ]
  },
  {
   "cell_type": "code",
   "execution_count": 13,
   "metadata": {},
   "outputs": [
    {
     "name": "stdout",
     "output_type": "stream",
     "text": [
      "Enter structuring element size(n, m) for erosion: 11 11\n",
      "Enter structuring element size(n, m) for dilation: 11 11\n"
     ]
    }
   ],
   "source": [
    "ero_img= erosion(binary)\n",
    "dil_img= dilation(binary)"
   ]
  },
  {
   "cell_type": "code",
   "execution_count": 14,
   "metadata": {},
   "outputs": [
    {
     "name": "stdout",
     "output_type": "stream",
     "text": [
      "Enter structuring element size(n, m) for erosion: 11 11\n",
      "Enter structuring element size(n, m) for dilation: 11 11\n"
     ]
    }
   ],
   "source": [
    "open_img= opening(binary)"
   ]
  },
  {
   "cell_type": "code",
   "execution_count": 15,
   "metadata": {},
   "outputs": [
    {
     "name": "stdout",
     "output_type": "stream",
     "text": [
      "Enter structuring element size(n, m) for dilation: 11 11\n",
      "Enter structuring element size(n, m) for erosion: 11 11\n"
     ]
    }
   ],
   "source": [
    "close_img= closing(binary)"
   ]
  },
  {
   "cell_type": "code",
   "execution_count": 16,
   "metadata": {},
   "outputs": [
    {
     "data": {
      "image/png": "[encoded data removed]",
      "text/plain": [
       "<Figure size 1296x864 with 6 Axes>"
      ]
     },
     "metadata": {
      "needs_background": "light"
     },
     "output_type": "display_data"
    }
   ],
   "source": [
    "fig, ax= plt.subplots(nrows= 2, ncols= 3, figsize= (18, 12))\n",
    "fsize= 14\n",
    "\n",
    "ax[0, 0].set_title(\"Original Image\", fontsize= fsize)\n",
    "ax[0, 0].imshow(binary, cmap= 'gray')\n",
    "\n",
    "ax[0, 1].set_title(\"Eroded Image\", fontsize= fsize)\n",
    "ax[0, 1].imshow(ero_img, cmap= 'gray')\n",
    "\n",
    "ax[0, 2].set_title(\"Dilated Image\", fontsize= fsize)\n",
    "ax[0, 2].imshow(dil_img, cmap= 'gray')\n",
    "\n",
    "ax[1, 0].set_title(\"Opening\", fontsize= fsize)\n",
    "ax[1, 0].imshow(open_img, cmap= 'gray')\n",
    "\n",
    "ax[1, 1].set_title(\"Closing\", fontsize= fsize)\n",
    "ax[1, 1].imshow(close_img, cmap= 'gray')\n",
    "\n",
    "plt.show()"
   ]
  },
  {
   "cell_type": "code",
   "execution_count": null,
   "metadata": {},
   "outputs": [],
   "source": []
  }
 ],
 "metadata": {
  "kernelspec": {
   "display_name": "Python 3",
   "language": "python",
   "name": "python3"
  },
  "language_info": {
   "codemirror_mode": {
    "name": "ipython",
    "version": 3
   },
   "file_extension": ".py",
   "mimetype": "text/x-python",
   "name": "python",
   "nbconvert_exporter": "python",
   "pygments_lexer": "ipython3",
   "version": "3.7.3"
  }
 },
 "nbformat": 4,
 "nbformat_minor": 2
}
