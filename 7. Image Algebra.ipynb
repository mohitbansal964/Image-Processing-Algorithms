{
 "cells": [
  {
   "cell_type": "markdown",
   "metadata": {},
   "source": [
    "# 7. Image Algebra"
   ]
  },
  {
   "cell_type": "code",
   "execution_count": 1,
   "metadata": {},
   "outputs": [],
   "source": [
    "import cv2\n",
    "import numpy as np\n",
    "import matplotlib.pyplot as plt\n",
    "import warnings\n",
    "warnings.filterwarnings('ignore')"
   ]
  },
  {
   "cell_type": "code",
   "execution_count": 2,
   "metadata": {},
   "outputs": [
    {
     "name": "stdout",
     "output_type": "stream",
     "text": [
      "Enter first image file name: ./Images/Rectangle.png\n",
      "Enter second image file name: ./Images/Circle.png\n"
     ]
    }
   ],
   "source": [
    "inp1= input(\"Enter first image file name: \")\n",
    "inp2= input(\"Enter second image file name: \")"
   ]
  },
  {
   "cell_type": "code",
   "execution_count": 3,
   "metadata": {},
   "outputs": [
    {
     "data": {
      "text/plain": [
       "((460, 819, 3), (460, 819, 3))"
      ]
     },
     "execution_count": 3,
     "metadata": {},
     "output_type": "execute_result"
    }
   ],
   "source": [
    "img1= cv2.imread(inp1)\n",
    "img2= cv2.imread(inp2)\n",
    "img1.shape, img2.shape"
   ]
  },
  {
   "cell_type": "code",
   "execution_count": 4,
   "metadata": {},
   "outputs": [
    {
     "data": {
      "text/plain": [
       "((200, 200, 3), (200, 200, 3))"
      ]
     },
     "execution_count": 4,
     "metadata": {},
     "output_type": "execute_result"
    }
   ],
   "source": [
    "img1= cv2.resize(img1, (200, 200))\n",
    "img2= cv2.resize(img2, (200, 200))\n",
    "img1.shape, img2.shape"
   ]
  },
  {
   "cell_type": "code",
   "execution_count": 5,
   "metadata": {},
   "outputs": [],
   "source": [
    "def BGR2RGB(img):\n",
    "    new_img= img.copy()\n",
    "    new_img[:, :, 0]= img[:, :, 2]\n",
    "    new_img[:, :, 2]= img[:, :, 0]\n",
    "    return new_img"
   ]
  },
  {
   "cell_type": "code",
   "execution_count": 6,
   "metadata": {},
   "outputs": [],
   "source": [
    "img1= BGR2RGB(img1)\n",
    "img2= BGR2RGB(img2)"
   ]
  },
  {
   "cell_type": "code",
   "execution_count": 7,
   "metadata": {},
   "outputs": [],
   "source": [
    "def add(img1, img2):\n",
    "    new_img= np.zeros(img1.shape, dtype= int)\n",
    "    for i in range(200):\n",
    "        for j in range(200):\n",
    "            new_img[i, j, 0]= int(img1[i, j, 0]+ img2[i, j, 0])%256\n",
    "            new_img[i, j, 1]= int(img1[i, j, 1]+ img2[i, j, 1])%256\n",
    "            new_img[i, j, 2]= int(img1[i, j, 2]+ img2[i, j, 2])%256\n",
    "    return new_img"
   ]
  },
  {
   "cell_type": "code",
   "execution_count": 8,
   "metadata": {},
   "outputs": [],
   "source": [
    "def sub(img1, img2):\n",
    "    new_img= np.zeros(img1.shape, dtype= int)\n",
    "    for i in range(200):\n",
    "        for j in range(200):\n",
    "            new_img[i, j, 0]= (img1[i, j, 0]- img2[i, j, 0])%256\n",
    "            new_img[i, j, 1]= (img1[i, j, 1]- img2[i, j, 1])%256\n",
    "            new_img[i, j, 2]= (img1[i, j, 2]- img2[i, j, 2])%256\n",
    "    return new_img"
   ]
  },
  {
   "cell_type": "code",
   "execution_count": 9,
   "metadata": {},
   "outputs": [],
   "source": [
    "def mulByFactor(img1, factor):\n",
    "    new_img= np.zeros(img1.shape, dtype= int)\n",
    "    for i in range(200):\n",
    "        for j in range(200):\n",
    "            new_img[i, j, 0]= (img1[i, j, 0]* factor)%256\n",
    "            new_img[i, j, 1]= (img1[i, j, 1]* factor)%256\n",
    "            new_img[i, j, 2]= (img1[i, j, 2]* factor)%256\n",
    "    return new_img"
   ]
  },
  {
   "cell_type": "code",
   "execution_count": 10,
   "metadata": {},
   "outputs": [],
   "source": [
    "def mulByImage(img1, img2):\n",
    "    new_img= np.zeros(img1.shape, dtype= int)\n",
    "    for i in range(200):\n",
    "        for j in range(200):\n",
    "            new_img[i, j, 0]= (img1[i, j, 0]* img2[i, j, 0])%256\n",
    "            new_img[i, j, 1]= (img1[i, j, 1]* img2[i, j, 1])%256\n",
    "            new_img[i, j, 2]= (img1[i, j, 2]* img2[i, j, 2])%256\n",
    "    return new_img"
   ]
  },
  {
   "cell_type": "code",
   "execution_count": 11,
   "metadata": {},
   "outputs": [],
   "source": [
    "def divByFactor(img1, factor):\n",
    "    if factor==0:\n",
    "        raise ZeroDivisionError(\"Factor value cannot be zero\")\n",
    "    new_img= np.zeros(img1.shape, dtype= int)\n",
    "    for i in range(200):\n",
    "        for j in range(200):\n",
    "            new_img[i, j, 0]= (img1[i, j, 0]// factor)%256\n",
    "            new_img[i, j, 1]= (img1[i, j, 1]// factor)%256\n",
    "            new_img[i, j, 2]= (img1[i, j, 2]// factor)%256\n",
    "    return new_img"
   ]
  },
  {
   "cell_type": "code",
   "execution_count": 12,
   "metadata": {},
   "outputs": [],
   "source": [
    "def divByImage(img1, img2):\n",
    "    new_img= np.zeros(img1.shape, dtype= int)\n",
    "    for i in range(200):\n",
    "        for j in range(200):\n",
    "            new_img[i, j, 0]= (img1[i, j, 0]// img2[i, j, 0])%256\n",
    "            new_img[i, j, 1]= (img1[i, j, 1]// img2[i, j, 1])%256\n",
    "            new_img[i, j, 2]= (img1[i, j, 2]// img2[i, j, 2])%256\n",
    "    return new_img"
   ]
  },
  {
   "cell_type": "code",
   "execution_count": 13,
   "metadata": {},
   "outputs": [],
   "source": [
    "def and_(img1, img2):\n",
    "    new_img= np.zeros(img1.shape, dtype= int)\n",
    "    for i in range(200):\n",
    "        for j in range(200):\n",
    "            new_img[i, j, 0]= (img1[i, j, 0]& img2[i, j, 0])\n",
    "            new_img[i, j, 1]= (img1[i, j, 1]& img2[i, j, 1])\n",
    "            new_img[i, j, 2]= (img1[i, j, 2]& img2[i, j, 2])\n",
    "    return new_img"
   ]
  },
  {
   "cell_type": "code",
   "execution_count": 14,
   "metadata": {},
   "outputs": [],
   "source": [
    "def or_(img1, img2):\n",
    "    new_img= np.zeros(img1.shape, dtype= int)\n",
    "    for i in range(200):\n",
    "        for j in range(200):\n",
    "            new_img[i, j, 0]= (img1[i, j, 0]| img2[i, j, 0])\n",
    "            new_img[i, j, 1]= (img1[i, j, 1]| img2[i, j, 1])\n",
    "            new_img[i, j, 2]= (img1[i, j, 2]| img2[i, j, 2])\n",
    "    return new_img"
   ]
  },
  {
   "cell_type": "code",
   "execution_count": 15,
   "metadata": {},
   "outputs": [],
   "source": [
    "def not_(img1):\n",
    "    new_img= np.zeros(img1.shape, dtype= int)\n",
    "    for i in range(200):\n",
    "        for j in range(200):\n",
    "            new_img[i, j, 0]= ~(img1[i, j, 0])\n",
    "            new_img[i, j, 1]= ~(img1[i, j, 1])\n",
    "            new_img[i, j, 2]= ~(img1[i, j, 2])\n",
    "    return new_img"
   ]
  },
  {
   "cell_type": "code",
   "execution_count": 16,
   "metadata": {},
   "outputs": [],
   "source": [
    "def xor(img1, img2):\n",
    "    new_img= np.zeros(img1.shape, dtype= int)\n",
    "    for i in range(200):\n",
    "        for j in range(200):\n",
    "            new_img[i, j, 0]= (img1[i, j, 0]^ img2[i, j, 0])\n",
    "            new_img[i, j, 1]= (img1[i, j, 1]^ img2[i, j, 1])\n",
    "            new_img[i, j, 2]= (img1[i, j, 2]^ img2[i, j, 2])\n",
    "    return new_img"
   ]
  },
  {
   "cell_type": "code",
   "execution_count": 17,
   "metadata": {},
   "outputs": [
    {
     "data": {
      "image/png": "[encoded data removed]",
      "text/plain": [
       "<Figure size 432x288 with 1 Axes>"
      ]
     },
     "metadata": {
      "needs_background": "light"
     },
     "output_type": "display_data"
    }
   ],
   "source": [
    "plt.imshow(img1)\n",
    "plt.show()"
   ]
  },
  {
   "cell_type": "code",
   "execution_count": 18,
   "metadata": {
    "scrolled": true
   },
   "outputs": [
    {
     "data": {
      "image/png": "[encoded data removed]",
      "text/plain": [
       "<Figure size 432x288 with 1 Axes>"
      ]
     },
     "metadata": {
      "needs_background": "light"
     },
     "output_type": "display_data"
    }
   ],
   "source": [
    "plt.imshow(img2)\n",
    "plt.show()"
   ]
  },
  {
   "cell_type": "code",
   "execution_count": 19,
   "metadata": {},
   "outputs": [
    {
     "data": {
      "image/png": "[encoded data removed]",
      "text/plain": [
       "<Figure size 432x288 with 1 Axes>"
      ]
     },
     "metadata": {
      "needs_background": "light"
     },
     "output_type": "display_data"
    }
   ],
   "source": [
    "new_img= add(img1, img2)\n",
    "plt.title('Add Operation')\n",
    "plt.imshow(new_img)\n",
    "plt.show()"
   ]
  },
  {
   "cell_type": "code",
   "execution_count": 20,
   "metadata": {
    "scrolled": true
   },
   "outputs": [
    {
     "data": {
      "image/png": "[encoded data removed]",
      "text/plain": [
       "<Figure size 432x288 with 1 Axes>"
      ]
     },
     "metadata": {
      "needs_background": "light"
     },
     "output_type": "display_data"
    }
   ],
   "source": [
    "new_img= sub(img1, img2)\n",
    "plt.title('Subtract Operation')\n",
    "plt.imshow(new_img, cmap= 'gray')\n",
    "plt.show()"
   ]
  },
  {
   "cell_type": "code",
   "execution_count": 21,
   "metadata": {},
   "outputs": [
    {
     "data": {
      "image/png": "[encoded data removed]",
      "text/plain": [
       "<Figure size 432x288 with 1 Axes>"
      ]
     },
     "metadata": {
      "needs_background": "light"
     },
     "output_type": "display_data"
    }
   ],
   "source": [
    "new_img= mulByFactor(img1, 10 )\n",
    "plt.title(\"Multiply by Factor\")\n",
    "plt.imshow(new_img)\n",
    "plt.show()"
   ]
  },
  {
   "cell_type": "code",
   "execution_count": 22,
   "metadata": {},
   "outputs": [
    {
     "data": {
      "image/png": "[encoded data removed]",
      "text/plain": [
       "<Figure size 432x288 with 1 Axes>"
      ]
     },
     "metadata": {
      "needs_background": "light"
     },
     "output_type": "display_data"
    }
   ],
   "source": [
    "new_img= mulByImage(img1, img2 )\n",
    "plt.title(\"Multiply by Image\")\n",
    "plt.imshow(new_img)\n",
    "plt.show()"
   ]
  },
  {
   "cell_type": "code",
   "execution_count": 23,
   "metadata": {},
   "outputs": [
    {
     "data": {
      "image/png": "[encoded data removed]",
      "text/plain": [
       "<Figure size 432x288 with 1 Axes>"
      ]
     },
     "metadata": {
      "needs_background": "light"
     },
     "output_type": "display_data"
    }
   ],
   "source": [
    "new_img= divByFactor(img2, 2 )\n",
    "plt.title(\"Divide by Factor\")\n",
    "plt.imshow(new_img)\n",
    "plt.show()"
   ]
  },
  {
   "cell_type": "code",
   "execution_count": 24,
   "metadata": {},
   "outputs": [
    {
     "data": {
      "image/png": "[encoded data removed]",
      "text/plain": [
       "<Figure size 432x288 with 1 Axes>"
      ]
     },
     "metadata": {
      "needs_background": "light"
     },
     "output_type": "display_data"
    }
   ],
   "source": [
    "new_img= divByImage(img2, img1 )\n",
    "plt.title(\"Divide by Image\")\n",
    "plt.imshow(new_img)\n",
    "plt.show()"
   ]
  },
  {
   "cell_type": "code",
   "execution_count": 25,
   "metadata": {},
   "outputs": [
    {
     "data": {
      "image/png": "[encoded data removed]",
      "text/plain": [
       "<Figure size 432x288 with 1 Axes>"
      ]
     },
     "metadata": {
      "needs_background": "light"
     },
     "output_type": "display_data"
    }
   ],
   "source": [
    "new_img= and_(img1, img2)\n",
    "plt.title(\"And Operation\")\n",
    "plt.imshow(new_img)\n",
    "plt.show()"
   ]
  },
  {
   "cell_type": "code",
   "execution_count": 26,
   "metadata": {
    "scrolled": true
   },
   "outputs": [
    {
     "data": {
      "image/png": "[encoded data removed]",
      "text/plain": [
       "<Figure size 432x288 with 1 Axes>"
      ]
     },
     "metadata": {
      "needs_background": "light"
     },
     "output_type": "display_data"
    }
   ],
   "source": [
    "new_img= or_(img1, img2)\n",
    "plt.title(\"Or Operation\")\n",
    "plt.imshow(new_img)\n",
    "plt.show()"
   ]
  },
  {
   "cell_type": "code",
   "execution_count": 28,
   "metadata": {},
   "outputs": [
    {
     "data": {
      "image/png": "[encoded data removed]",
      "text/plain": [
       "<Figure size 432x288 with 1 Axes>"
      ]
     },
     "metadata": {},
     "output_type": "display_data"
    }
   ],
   "source": [
    "new_img= not_(img1)\n",
    "plt.title(\"Not Operation\")\n",
    "plt.imshow(new_img)\n",
    "plt.show()"
   ]
  },
  {
   "cell_type": "code",
   "execution_count": 27,
   "metadata": {
    "scrolled": true
   },
   "outputs": [
    {
     "data": {
      "image/png": "[encoded data removed]",
      "text/plain": [
       "<Figure size 432x288 with 1 Axes>"
      ]
     },
     "metadata": {
      "needs_background": "light"
     },
     "output_type": "display_data"
    }
   ],
   "source": [
    "new_img= xor(img1, img2)\n",
    "plt.title(\"Xor Operation\")\n",
    "plt.imshow(new_img)\n",
    "plt.show()"
   ]
  },
  {
   "cell_type": "code",
   "execution_count": null,
   "metadata": {},
   "outputs": [],
   "source": []
  },
  {
   "cell_type": "code",
   "execution_count": null,
   "metadata": {},
   "outputs": [],
   "source": []
  }
 ],
 "metadata": {
  "kernelspec": {
   "display_name": "Python 3",
   "language": "python",
   "name": "python3"
  },
  "language_info": {
   "codemirror_mode": {
    "name": "ipython",
    "version": 3
   },
   "file_extension": ".py",
   "mimetype": "text/x-python",
   "name": "python",
   "nbconvert_exporter": "python",
   "pygments_lexer": "ipython3",
   "version": "3.7.3"
  }
 },
 "nbformat": 4,
 "nbformat_minor": 2
}
