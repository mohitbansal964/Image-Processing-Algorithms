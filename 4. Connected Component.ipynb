{
 "cells": [
  {
   "cell_type": "markdown",
   "metadata": {},
   "source": [
    "# 4. Connected Component"
   ]
  },
  {
   "cell_type": "code",
   "execution_count": 1,
   "metadata": {},
   "outputs": [],
   "source": [
    "import numpy as np\n",
    "import matplotlib.pyplot as plt"
   ]
  },
  {
   "cell_type": "code",
   "execution_count": 2,
   "metadata": {},
   "outputs": [],
   "source": [
    "def four_connected(V, pix):\n",
    "    connected= []\n",
    "    row_mov= [0, 1]\n",
    "    col_mov= [1, 0]\n",
    "    for i in range(pix.shape[0]):\n",
    "        for j in range(pix.shape[1]):\n",
    "            if pix[i][j] in V:\n",
    "                for k in range(2):\n",
    "                    cur_r= i+ row_mov[k]\n",
    "                    cur_c= j+ col_mov[k]\n",
    "                    if cur_r>= 0 and cur_r< pix.shape[0] and cur_c>= 0 and cur_c< pix.shape[1] and pix[cur_r][cur_c] in  V:\n",
    "                        connected.append((i, j, cur_r, cur_c))\n",
    "    return connected"
   ]
  },
  {
   "cell_type": "code",
   "execution_count": 3,
   "metadata": {},
   "outputs": [],
   "source": [
    "def eight_connected(V, pix):\n",
    "    connected= []\n",
    "    row_mov= [-1, -1, 0, 1]\n",
    "    col_mov= [0, 1, 1, 1]\n",
    "    for i in range(pix.shape[0]):\n",
    "        for j in range(pix.shape[1]):\n",
    "            if pix[i][j] in V:\n",
    "                for k in range(4):\n",
    "                    cur_r= i+ row_mov[k]\n",
    "                    cur_c= j+ col_mov[k]\n",
    "                    if cur_r>= 0 and cur_r< pix.shape[0] and cur_c>= 0 and cur_c< pix.shape[1] and pix[cur_r][cur_c] in  V:\n",
    "                        connected.append((i, j, cur_r, cur_c))\n",
    "    return connected"
   ]
  },
  {
   "cell_type": "code",
   "execution_count": 4,
   "metadata": {},
   "outputs": [],
   "source": [
    "def M_connected(V, pix):\n",
    "    connected= []\n",
    "    row_mov= [-1, 0, 1, 0]\n",
    "    col_mov= [0, 1, 0, -1]\n",
    "    row_diag= [-1, 1, 1, -1]\n",
    "    col_diag= [1, 1, -1, -1]\n",
    "    for i in range(pix.shape[0]):\n",
    "        for j in range(pix.shape[1]):\n",
    "            if pix[i][j] in V:\n",
    "                flag= []\n",
    "                for k in range(4):\n",
    "                    cur_r= i+ row_mov[k]\n",
    "                    cur_c= j+ col_mov[k]\n",
    "                    flag.append(False)\n",
    "                    if cur_r>= 0 and cur_r< pix.shape[0] and cur_c>= 0 and cur_c< pix.shape[1] and pix[cur_r][cur_c] in  V:\n",
    "                        connected.append((i, j, cur_r, cur_c))\n",
    "                        flag[k]= True\n",
    "                flag= flag+ flag\n",
    "                for k in range(4):\n",
    "                    cur_r= i+ row_diag[k]\n",
    "                    cur_c= j+ col_diag[k]\n",
    "                    if cur_r>= 0 and cur_r< pix.shape[0] and cur_c>= 0 and cur_c< pix.shape[1] and pix[cur_r][cur_c] in  V:\n",
    "                        if flag[k: k+2] ==[False, False]:\n",
    "                            connected.append((i, j, cur_r, cur_c))\n",
    "    return connected"
   ]
  },
  {
   "cell_type": "code",
   "execution_count": 5,
   "metadata": {},
   "outputs": [],
   "source": [
    "def get_component4(V, data1, component, si, sj):\n",
    "    data= data1.copy()\n",
    "    for i in range(data1.shape[0]):\n",
    "        for j in range(data1.shape[1]):\n",
    "            if data1[i][j] in V:\n",
    "                data[i][j]= 1\n",
    "            else:\n",
    "                data[i][j]= 0\n",
    "    row_mov4= [-1, 0, 1, 0]\n",
    "    col_mov4= [0, 1, 0, -1]\n",
    "    queue= []\n",
    "    queue.append((si, sj))\n",
    "    \n",
    "    data[si][sj]= 0\n",
    "    while len(queue)!=0:\n",
    "        cur= queue[0]\n",
    "        component.append(cur)\n",
    "        queue.pop(0)\n",
    "        for k in range(4):\n",
    "            cur_row= cur[0]+ row_mov4[k]\n",
    "            cur_col= cur[1]+ col_mov4[k]\n",
    "            if cur_row< data.shape[0] and cur_col< data.shape[1] and cur_row>= 0 and cur_col>= 0 and data[cur_row][cur_col]==1:\n",
    "                data[cur_row][cur_col]= 0\n",
    "                queue.append((cur_row, cur_col))\n",
    "\n",
    "def get_component8(V, data1, component, si, sj):\n",
    "    data= data1.copy()\n",
    "    for i in range(data1.shape[0]):\n",
    "        for j in range(data1.shape[1]):\n",
    "            if data1[i][j] in V:\n",
    "                data[i][j]= 1\n",
    "            else:\n",
    "                data[i][j]= 0\n",
    "    row_mov8= [-1, -1, 0, 1, 1, 1, 0, -1]\n",
    "    col_mov8= [0, 1, 1, 1, 0, -1, -1, -1]\n",
    "    queue= []\n",
    "    queue.append((si, sj))\n",
    "    \n",
    "    data[si][sj]= 0\n",
    "    while len(queue)!=0:\n",
    "        cur= queue[0]\n",
    "        component.append(cur)\n",
    "        queue.pop(0)\n",
    "        for k in range(8):\n",
    "            cur_row= cur[0]+ row_mov8[k]\n",
    "            cur_col= cur[1]+ col_mov8[k]\n",
    "            if cur_row< data.shape[0] and cur_col< data.shape[1] and cur_row>= 0 and cur_col>= 0 and data[cur_row][cur_col]==1:\n",
    "                data[cur_row][cur_col]= 0\n",
    "                queue.append((cur_row, cur_col))\n",
    "\n",
    "def get_componentM(V, data1, component, si, sj):\n",
    "    data= data1.copy()\n",
    "    for i in range(data1.shape[0]):\n",
    "        for j in range(data1.shape[1]):\n",
    "            if data1[i][j] in V:\n",
    "                data[i][j]= 1\n",
    "            else:\n",
    "                data[i][j]= 0\n",
    "    row_mov4=[-1, 0, 1, 0]\n",
    "    col_mov4= [0, 1, 0, -1]\n",
    "    row_diag= [-1, 1, 1, -1]\n",
    "    col_diag= [1, 1, -1, -1]\n",
    "    queue= []\n",
    "    queue.append((si, sj))\n",
    "    data[si][sj]= 0\n",
    "    while len(queue)!=0:\n",
    "        cur= queue.pop(0)\n",
    "        component.append(cur)\n",
    "        flag= []\n",
    "        for k in range(4):\n",
    "            flag.append(False)\n",
    "            nxt_r= cur[0]+ row_mov4[k]\n",
    "            nxt_c= cur[1]+ col_mov4[k]\n",
    "            if nxt_r>= 0 and nxt_r< data.shape[0] and nxt_c>= 0 and nxt_c< data.shape[1] and data[nxt_r][nxt_c]==1:\n",
    "                flag[k]= True\n",
    "                data[nxt_r][nxt_c]= 0\n",
    "                queue.append((nxt_r, nxt_c))\n",
    "        flag= flag+ flag\n",
    "        for k in range(4):\n",
    "            nxt_r= cur[0]+ row_diag[k]\n",
    "            nxt_c= cur[1]+ col_diag[k]\n",
    "            if nxt_r>= 0 and nxt_r< data.shape[0] and nxt_c>= 0 and nxt_c< data.shape[1] and data[nxt_r][nxt_c]==1:\n",
    "                if flag[k: k+2] ==[False, False]:\n",
    "                    data[nxt_r][nxt_c]= 0\n",
    "                    queue.append((nxt_r, nxt_c))\n",
    "                \n",
    "def connected_comp(V, pix, type_of_connectivity= 'M'):\n",
    "    data= pix.copy()\n",
    "    for i in range(pix.shape[0]):\n",
    "        for j in range(pix.shape[1]):\n",
    "            if pix[i][j] in V:\n",
    "                data[i][j]= 1\n",
    "            else:\n",
    "                data[i][j]= 0\n",
    "    components= []\n",
    "    for i in range(data.shape[0]):\n",
    "        for j in range(data.shape[1]):\n",
    "            if data[i][j]==1:\n",
    "                component= []\n",
    "                if type_of_connectivity=='4':\n",
    "                    get_component4(data, component, i, j)\n",
    "                    components.append(component)\n",
    "                elif type_of_connectivity=='8':\n",
    "                    get_component8(data, component, i, j)\n",
    "                    components.append(component)\n",
    "                elif type_of_connectivity=='M':\n",
    "                    get_componentM(data, component, i, j)\n",
    "                    components.append(component)\n",
    "    return components"
   ]
  },
  {
   "cell_type": "markdown",
   "metadata": {},
   "source": [
    "# User Matrix"
   ]
  },
  {
   "cell_type": "code",
   "execution_count": 6,
   "metadata": {
    "scrolled": true
   },
   "outputs": [
    {
     "name": "stdout",
     "output_type": "stream",
     "text": [
      "Enter space separated allowed pixel values: 0 1\n"
     ]
    },
    {
     "data": {
      "text/plain": [
       "array([0, 1])"
      ]
     },
     "execution_count": 6,
     "metadata": {},
     "output_type": "execute_result"
    }
   ],
   "source": [
    "V= np.array(list(map(int, input(\"Enter space separated allowed pixel values: \").split())))\n",
    "V"
   ]
  },
  {
   "cell_type": "code",
   "execution_count": 7,
   "metadata": {},
   "outputs": [],
   "source": [
    "# n, m= map(int, input(\"Enter size of matrix(n, m): \").split())\n",
    "# print(\"Enter matrix values: \")\n",
    "# l= []\n",
    "# for i in range(n):\n",
    "#     _= np.array(list(map(int, input().split())))\n",
    "#     l.append(_)\n",
    "# pix= np.array(l)\n",
    "pix= np.array([[3, 1, 2, 1], [2, 2, 0, 2], [1, 2, 1, 1], [1, 0, 1, 2]])"
   ]
  },
  {
   "cell_type": "code",
   "execution_count": 8,
   "metadata": {
    "scrolled": true
   },
   "outputs": [
    {
     "name": "stdout",
     "output_type": "stream",
     "text": [
      "Enter pixel position: 3 0\n"
     ]
    }
   ],
   "source": [
    "px, py= map(int, input(\"Enter pixel position: \").split())"
   ]
  },
  {
   "cell_type": "code",
   "execution_count": 9,
   "metadata": {},
   "outputs": [
    {
     "data": {
      "text/plain": [
       "[(3, 0), (2, 0), (3, 1), (3, 2), (2, 2), (1, 2), (2, 3)]"
      ]
     },
     "execution_count": 9,
     "metadata": {},
     "output_type": "execute_result"
    }
   ],
   "source": [
    "component4= []\n",
    "get_component4(V, pix, component4, px, py)\n",
    "component4"
   ]
  },
  {
   "cell_type": "code",
   "execution_count": 10,
   "metadata": {},
   "outputs": [
    {
     "data": {
      "text/plain": [
       "[(3, 0), (2, 0), (3, 1), (2, 2), (3, 2), (1, 2), (2, 3), (0, 3), (0, 1)]"
      ]
     },
     "execution_count": 10,
     "metadata": {},
     "output_type": "execute_result"
    }
   ],
   "source": [
    "component8= []\n",
    "get_component8(V, pix, component8, px, py)\n",
    "component8"
   ]
  },
  {
   "cell_type": "code",
   "execution_count": 11,
   "metadata": {
    "scrolled": true
   },
   "outputs": [
    {
     "data": {
      "text/plain": [
       "[(3, 0), (2, 0), (3, 1), (3, 2), (2, 2), (1, 2), (2, 3), (0, 3), (0, 1)]"
      ]
     },
     "execution_count": 11,
     "metadata": {},
     "output_type": "execute_result"
    }
   ],
   "source": [
    "componentM= []\n",
    "get_componentM(V, pix, componentM, px, py)\n",
    "componentM"
   ]
  },
  {
   "cell_type": "code",
   "execution_count": 12,
   "metadata": {},
   "outputs": [
    {
     "data": {
      "image/png": "[encoded data removed]",
      "text/plain": [
       "<Figure size 360x360 with 1 Axes>"
      ]
     },
     "metadata": {
      "needs_background": "light"
     },
     "output_type": "display_data"
    }
   ],
   "source": [
    "plt.figure(figsize=(5, 5))\n",
    "data= np.zeros((pix.shape[0], pix.shape[1]))\n",
    "for i in component4:\n",
    "    data[i[0], i[1]]= 1\n",
    "    \n",
    "plt.imshow(data, cmap= 'binary')\n",
    "plt.plot(py, px, 'ro' )\n",
    "plt.title('4- Connected Component')\n",
    "plt.show()"
   ]
  },
  {
   "cell_type": "code",
   "execution_count": 13,
   "metadata": {},
   "outputs": [
    {
     "data": {
      "image/png": "[encoded data removed]",
      "text/plain": [
       "<Figure size 360x360 with 1 Axes>"
      ]
     },
     "metadata": {
      "needs_background": "light"
     },
     "output_type": "display_data"
    }
   ],
   "source": [
    "plt.figure(figsize=(5, 5))\n",
    "data= np.zeros((pix.shape[0], pix.shape[1]))\n",
    "for i in component8:\n",
    "    data[i[0], i[1]]= 1\n",
    "    \n",
    "plt.imshow(data, cmap= 'binary')\n",
    "plt.plot(py, px, 'ro' )\n",
    "plt.title('8- Connected Component')\n",
    "plt.show()"
   ]
  },
  {
   "cell_type": "code",
   "execution_count": 15,
   "metadata": {
    "scrolled": true
   },
   "outputs": [
    {
     "data": {
      "image/png": "[encoded data removed]",
      "text/plain": [
       "<Figure size 360x360 with 1 Axes>"
      ]
     },
     "metadata": {
      "needs_background": "light"
     },
     "output_type": "display_data"
    }
   ],
   "source": [
    "plt.figure(figsize=(5, 5))\n",
    "data= np.zeros((pix.shape[0], pix.shape[1]))\n",
    "for i in componentM:\n",
    "    data[i[0], i[1]]= 1\n",
    "    \n",
    "plt.imshow(data, cmap= 'binary')\n",
    "plt.plot(py, px, 'ro' )\n",
    "plt.title('M- Connected Component')\n",
    "plt.show()"
   ]
  },
  {
   "cell_type": "code",
   "execution_count": null,
   "metadata": {},
   "outputs": [],
   "source": []
  },
  {
   "cell_type": "markdown",
   "metadata": {},
   "source": [
    "# Image"
   ]
  },
  {
   "cell_type": "code",
   "execution_count": 16,
   "metadata": {},
   "outputs": [],
   "source": [
    "import cv2"
   ]
  },
  {
   "cell_type": "code",
   "execution_count": 17,
   "metadata": {},
   "outputs": [],
   "source": [
    "img= cv2.imread('./Images/flower_gray.png', 0)"
   ]
  },
  {
   "cell_type": "code",
   "execution_count": 18,
   "metadata": {},
   "outputs": [],
   "source": [
    "# V_img= np.array(list(map(int, input(\"Enter space separated allowed pixel values: \").split())))\n",
    "# V_img"
   ]
  },
  {
   "cell_type": "code",
   "execution_count": 21,
   "metadata": {},
   "outputs": [
    {
     "name": "stdout",
     "output_type": "stream",
     "text": [
      "Enter pixel position: 12 3\n"
     ]
    }
   ],
   "source": [
    "px_img, py_img= map(int, input(\"Enter pixel position: \").split())"
   ]
  },
  {
   "cell_type": "code",
   "execution_count": 22,
   "metadata": {},
   "outputs": [],
   "source": [
    "component_img4= []\n",
    "# get_component4(V_img, img, component_img4, px_img, py_img)\n",
    "get_component4(np.arange(20, 40), img, component_img4, px_img, py_img)"
   ]
  },
  {
   "cell_type": "code",
   "execution_count": 23,
   "metadata": {},
   "outputs": [],
   "source": [
    "component_img8= []\n",
    "# get_component4(V_img, img, component_img8, px_img, py_img)\n",
    "get_component8(np.arange(20, 40), img, component_img8, px_img, py_img)"
   ]
  },
  {
   "cell_type": "code",
   "execution_count": 24,
   "metadata": {},
   "outputs": [],
   "source": [
    "component_imgM= []\n",
    "# get_component4(V_img, img, component_imgM, px_img, py_img)\n",
    "get_componentM(np.arange(20, 40), img, component_imgM, px_img, py_img)"
   ]
  },
  {
   "cell_type": "code",
   "execution_count": 25,
   "metadata": {},
   "outputs": [
    {
     "data": {
      "image/png": "[encoded data removed]",
      "text/plain": [
       "<Figure size 720x720 with 1 Axes>"
      ]
     },
     "metadata": {
      "needs_background": "light"
     },
     "output_type": "display_data"
    }
   ],
   "source": [
    "connected4= four_connected(np.arange(20, 40), img)\n",
    "\n",
    "plt.figure(figsize= (10, 10))\n",
    "plt.imshow(img, cmap= 'gray')\n",
    "for i in connected4:\n",
    "    plt.plot([i[1], i[3]], [i[0], i[2]], 'b', marker= 'o')\n",
    "\n",
    "plt.plot(py_img, px_img, 'r', marker= 'o')\n",
    "plt.show()\n"
   ]
  },
  {
   "cell_type": "code",
   "execution_count": 26,
   "metadata": {},
   "outputs": [
    {
     "data": {
      "image/png": "[encoded data removed]",
      "text/plain": [
       "<Figure size 432x288 with 1 Axes>"
      ]
     },
     "metadata": {
      "needs_background": "light"
     },
     "output_type": "display_data"
    }
   ],
   "source": [
    "data= np.zeros((img.shape[0], img.shape[1]))\n",
    "for i in component_img4:\n",
    "    data[i[0], i[1]]= 1\n",
    "    \n",
    "plt.imshow(data, cmap= 'binary')\n",
    "plt.plot(py_img, px_img, 'ro' )\n",
    "plt.title('4- Connected Component')\n",
    "plt.show()"
   ]
  },
  {
   "cell_type": "code",
   "execution_count": 27,
   "metadata": {},
   "outputs": [
    {
     "data": {
      "image/png": "[encoded data removed]",
      "text/plain": [
       "<Figure size 432x288 with 1 Axes>"
      ]
     },
     "metadata": {
      "needs_background": "light"
     },
     "output_type": "display_data"
    }
   ],
   "source": [
    "data= np.zeros((img.shape[0], img.shape[1]))\n",
    "for i in component_img8:\n",
    "    data[i[0], i[1]]= 1\n",
    "    \n",
    "plt.imshow(data, cmap= 'binary')\n",
    "plt.plot(py_img, px_img, 'ro' )\n",
    "plt.title('8- Connected Component')\n",
    "plt.show()"
   ]
  },
  {
   "cell_type": "code",
   "execution_count": 28,
   "metadata": {},
   "outputs": [
    {
     "data": {
      "image/png": "[encoded data removed]",
      "text/plain": [
       "<Figure size 432x288 with 1 Axes>"
      ]
     },
     "metadata": {
      "needs_background": "light"
     },
     "output_type": "display_data"
    }
   ],
   "source": [
    "data= np.zeros((img.shape[0], img.shape[1]))\n",
    "for i in component_imgM:\n",
    "    data[i[0], i[1]]= 1\n",
    "    \n",
    "plt.imshow(data, cmap= 'binary')\n",
    "plt.plot(py_img, px_img, 'ro' )\n",
    "plt.title('M- Connected Component')\n",
    "plt.show()"
   ]
  },
  {
   "cell_type": "code",
   "execution_count": null,
   "metadata": {},
   "outputs": [],
   "source": []
  },
  {
   "cell_type": "code",
   "execution_count": null,
   "metadata": {},
   "outputs": [],
   "source": []
  }
 ],
 "metadata": {
  "kernelspec": {
   "display_name": "Python 3",
   "language": "python",
   "name": "python3"
  },
  "language_info": {
   "codemirror_mode": {
    "name": "ipython",
    "version": 3
   },
   "file_extension": ".py",
   "mimetype": "text/x-python",
   "name": "python",
   "nbconvert_exporter": "python",
   "pygments_lexer": "ipython3",
   "version": "3.7.3"
  }
 },
 "nbformat": 4,
 "nbformat_minor": 2
}
